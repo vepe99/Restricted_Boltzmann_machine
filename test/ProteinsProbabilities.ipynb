{
 "cells": [
  {
   "cell_type": "markdown",
   "metadata": {},
   "source": [
    "# Required libraries"
   ]
  },
  {
   "cell_type": "code",
   "execution_count": 1,
   "metadata": {},
   "outputs": [],
   "source": [
    "import numpy as np\n",
    "import matplotlib.pyplot as plt\n",
    "import itertools"
   ]
  },
  {
   "cell_type": "markdown",
   "metadata": {},
   "source": [
    "# Input data manipulation"
   ]
  },
  {
   "cell_type": "code",
   "execution_count": 2,
   "metadata": {},
   "outputs": [
    {
     "data": {
      "text/plain": [
       "['00101000001001000010',\n",
       " '00101000000110000001',\n",
       " '00100100000101000001',\n",
       " '01000001010000101000',\n",
       " '00100010100000100100',\n",
       " '00010100001010000010',\n",
       " '00100100001001000100',\n",
       " '00101000000110000001',\n",
       " '10000010010001001000',\n",
       " '00011000001001000010']"
      ]
     },
     "execution_count": 2,
     "metadata": {},
     "output_type": "execute_result"
    }
   ],
   "source": [
    "#read file\n",
    "with open('DATA_b/x_RBM_q0.1.dat', 'r') as file:\n",
    "    file_proteins=file.read().splitlines() \n",
    "\n",
    "#convert to string of 0 and 1\n",
    "protein_list=[]\n",
    "for line in file_proteins:\n",
    "    protein_list.append(''.join(line.split(' ')))\n",
    "\n",
    "#show only first 10 converted proteins\n",
    "protein_list[0:10]"
   ]
  },
  {
   "cell_type": "markdown",
   "metadata": {},
   "source": [
    "# Definition of functions"
   ]
  },
  {
   "cell_type": "code",
   "execution_count": 3,
   "metadata": {},
   "outputs": [],
   "source": [
    "def convert_to_decimal_protein(protein_list):\n",
    "    '''\n",
    "    Convert the raw protein list of strings of 1s and 0s \n",
    "    to binary numbers\n",
    "    '''\n",
    "    proteins_dataset=[]\n",
    "\n",
    "    for line in protein_list:\n",
    "        proteins_dataset.append(int(line,2))\n",
    "        \n",
    "    return proteins_dataset"
   ]
  },
  {
   "cell_type": "code",
   "execution_count": 4,
   "metadata": {},
   "outputs": [],
   "source": [
    "def return_protein_probabilities(decimal_proteins_list, n_amminoacids=5):\n",
    "    '''\n",
    "    Returns a pdf. Each element of the returned vector\n",
    "    represents the probability of each one of the 4^5 proteins\n",
    "    in the list passed to the function.\n",
    "    \n",
    "    The output vector length is always 4^5=1024, independently of\n",
    "    the input proteins list passed as input.\n",
    "    '''\n",
    "    #number of amminoacids in the protein\n",
    "    n_ammino=n_amminoacids\n",
    "    \n",
    "    #total number of preteins, to normalize the pdf\n",
    "    n_proteins=len(decimal_proteins_list)\n",
    "\n",
    "    #encoding of amminoacids\n",
    "    v1,v2,v3,v4=np.eye(4)\n",
    "\n",
    "    #list all possible combinations of proteins\n",
    "    possibilities=list(itertools.product(['1000','0100','0010','0001'],\n",
    "                                         repeat=n_ammino))\n",
    "\n",
    "    #converts proteins to decimal representation\n",
    "    decimal=list()\n",
    "    for p in possibilities:\n",
    "        decimal.append(int(''.join(p),2))\n",
    "\n",
    "    #sort the representation from bigger to smaller values\n",
    "    decimal.sort(reverse=True)\n",
    "\n",
    "    #initialize a dict with proteins as keys\n",
    "    protein_cnt=dict.fromkeys(decimal,0)\n",
    "\n",
    "    #counts the number of times the protein was found\n",
    "    for protein in decimal_proteins_list:\n",
    "       protein_cnt[protein]+=1 \n",
    "\n",
    "    #return the ordered list of \n",
    "    #normalized probabilities for each possible protein\n",
    "    norm_prob=np.array(list(protein_cnt.values()))/n_proteins\n",
    "    \n",
    "    return norm_prob"
   ]
  },
  {
   "cell_type": "code",
   "execution_count": 5,
   "metadata": {},
   "outputs": [],
   "source": [
    "proteins_dataset=convert_to_decimal_protein(protein_list)\n",
    "p_dataset=return_protein_probabilities(proteins_dataset)\n",
    "\n",
    "print('Len protein dataset: ',len(proteins_dataset))\n",
    "print('Len p_dataset: ', len(p_dataset))\n",
    "print('Norm p_dataset: ', p_dataset.sum())"
   ]
  },
  {
   "cell_type": "markdown",
   "metadata": {},
   "source": [
    "# Small tests"
   ]
  },
  {
   "cell_type": "code",
   "execution_count": 6,
   "metadata": {},
   "outputs": [
    {
     "name": "stdout",
     "output_type": "stream",
     "text": [
      "[149 104 114 141 124 125 135 114 103 116 129 113 139 133 123 132 133 107\n",
      " 132 138 112 139 103 138 104 111 130 118 115 123 112 105 100 120 135 128\n",
      " 119 128 120 120 126 120 135 133 123 108 122 124 111 127 111 108 109 119\n",
      " 121 122 132 139 120 121 106 112  96 111]\n"
     ]
    }
   ],
   "source": [
    "proteins=[]\n",
    "with open('DATA_b/x_RBM_q0.1.dat', 'r') as file:\n",
    "    lines=file.readlines()\n",
    "    \n",
    "#proteins.append(int(''.join(file.readline().split(' ')),2))\n",
    "for line in lines:\n",
    "    #print(int(''.join(line.strip().split(' ')),2))\n",
    "    proteins.append(int(''.join(line.strip().split(' ')),2))\n",
    "\n",
    "proteins=np.array(proteins)\n",
    "counted,counts=np.unique(proteins, return_counts=True)#.size\n",
    "print(counts[counts>50])\n",
    "\n",
    "#plt.hist(proteins, bins=625)"
   ]
  }
 ],
 "metadata": {
  "kernelspec": {
   "display_name": "Python 3 (ipykernel)",
   "language": "python",
   "name": "python3"
  },
  "language_info": {
   "codemirror_mode": {
    "name": "ipython",
    "version": 3
   },
   "file_extension": ".py",
   "mimetype": "text/x-python",
   "name": "python",
   "nbconvert_exporter": "python",
   "pygments_lexer": "ipython3",
   "version": "3.10.9"
  }
 },
 "nbformat": 4,
 "nbformat_minor": 2
}
