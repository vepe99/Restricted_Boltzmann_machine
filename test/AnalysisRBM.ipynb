{
 "cells": [
  {
   "cell_type": "code",
   "execution_count": 17,
   "metadata": {
    "tags": []
   },
   "outputs": [],
   "source": [
    "import numpy as np\n",
    "import matplotlib.pyplot as plt\n",
    "from matplotlib.ticker import NullFormatter\n",
    "import pandas as pd\n",
    "import itertools\n",
    "\n",
    "\n",
    "from rBoltzMach import boltzmanmachine\n",
    "from metrics import convert_to_decimal_protein, return_protein_probabilities, JS_divergence\n",
    "from Graphics import distr_ami\n",
    "\n",
    "from scipy.spatial.distance import jensenshannon\n",
    "\n",
    "\n",
    "plt.rcParams['font.size'] = 14"
   ]
  },
  {
   "cell_type": "markdown",
   "metadata": {},
   "source": [
    "## Data selection"
   ]
  },
  {
   "cell_type": "code",
   "execution_count": 18,
   "metadata": {},
   "outputs": [],
   "source": [
    "CASE=1           #select the data to be analysed\n",
    "if CASE==0: dname=\"DATA\"\n",
    "if CASE==1: dname=\"DATA_b\"\n",
    "    \n",
    "fname=dname+'/x_RBM_q0.1.dat'\n",
    "v = np.loadtxt(fname, delimiter=\" \",dtype=int)\n",
    "v0 = np.copy(v)  #Copy original data to analyse later\n",
    "\n",
    "spin = True"
   ]
  },
  {
   "cell_type": "markdown",
   "metadata": {},
   "source": [
    "## We want to build heat maps where we list our metrics as functions of the training and genereting temperature\n",
    "Since for now we trained our bolzaman machine with tempratures that ranged from 0.05, to 0.5, we could build a matrix for each metrics containing their values, with the axes being the rows and columns"
   ]
  },
  {
   "cell_type": "markdown",
   "metadata": {},
   "source": [
    "## Network parameters"
   ]
  },
  {
   "cell_type": "code",
   "execution_count": 19,
   "metadata": {},
   "outputs": [
    {
     "name": "stdout",
     "output_type": "stream",
     "text": [
      "each of N=10000 data has L=20 digits\n",
      "The network has 20 visible units and 3 hidden units\n",
      "Initializing std 0.41702882811414954\n"
     ]
    }
   ],
   "source": [
    "seed = 1\n",
    "N = len(v)       #Number of rows\n",
    "L = len(v[0])    #Set the number of visible variable\n",
    "M = 3            #Set the number of hidden units\n",
    "\n",
    "sigma = np.sqrt(4. / float(L + M))\n",
    "\n",
    "print(f'each of N={N} data has L={L} digits')\n",
    "print(f'The network has {L} visible units and {M} hidden units')\n",
    "print(f'Initializing std {sigma}')"
   ]
  },
  {
   "cell_type": "markdown",
   "metadata": {},
   "source": [
    "### Create a list with the file names containing the models"
   ]
  },
  {
   "cell_type": "code",
   "execution_count": 5,
   "metadata": {},
   "outputs": [],
   "source": [
    "if spin:\n",
    "\n",
    "    models = ['Models/RMSprop_005_1_spin.npz',\n",
    "                  'Models/RMSprop_01_1_spin.npz',\n",
    "                  'Models/RMSprop_015_1_spin.npz',\n",
    "                  'Models/RMSprop_02_1_spin.npz',\n",
    "                  'Models/RMSprop_025_1_spin.npz',\n",
    "                  'Models/RMSprop_03_1_spin.npz',\n",
    "                  'Models/RMSprop_035_1_spin.npz',\n",
    "                  'Models/RMSprop_04_1_spin.npz',\n",
    "                  'Models/RMSprop_045_1_spin.npz',\n",
    "                  'Models/RMSprop_05_1_spin.npz']\n",
    "    vmin= -1\n",
    "\n",
    "else:\n",
    "    models = ['Models/RMSprop_005_1.npz',\n",
    "                  'Models/RMSprop_01_1.npz',\n",
    "                  'Models/RMSprop_015_1.npz',\n",
    "                  'Models/RMSprop_02_1.npz',\n",
    "                  'Models/RMSprop_025_1.npz',\n",
    "                  'Models/RMSprop_03_1.npz',\n",
    "                  'Models/RMSprop_035_1.npz',\n",
    "                  'Models/RMSprop_04_1.npz',\n",
    "                  'Models/RMSprop_045_1.npz',\n",
    "                  'Models/RMSprop_05_1.npz']\n",
    "    vmin= 0\n",
    "\n",
    "amp_list = [0.05, 0.10, 0.15, 0.2, 0.25, 0.3, 0.35, 0.4, 0.45, 0.5]"
   ]
  },
  {
   "cell_type": "markdown",
   "metadata": {},
   "source": [
    "### Defining the empirical probability distribution of our data"
   ]
  },
  {
   "cell_type": "code",
   "execution_count": 6,
   "metadata": {},
   "outputs": [
    {
     "name": "stdout",
     "output_type": "stream",
     "text": [
      "Len protein dataset:  10000\n",
      "Len p_dataset:  1024\n",
      "Norm p_dataset:  1.0\n"
     ]
    }
   ],
   "source": [
    "proteins_dataset0=convert_to_decimal_protein(v0)\n",
    "Q=return_protein_probabilities(proteins_dataset0)\n",
    "\n",
    "print('Len protein dataset: ',len(proteins_dataset0))\n",
    "print('Len p_dataset: ', len(Q))\n",
    "print('Norm p_dataset: ', Q.sum())"
   ]
  },
  {
   "cell_type": "markdown",
   "metadata": {},
   "source": [
    "### Computing for different training and generetion amplitude the jensen-Shannon divergence"
   ]
  },
  {
   "cell_type": "code",
   "execution_count": null,
   "metadata": {},
   "outputs": [],
   "source": [
    "js_values = np.zeros((len(models), len(models)))"
   ]
  },
  {
   "cell_type": "code",
   "execution_count": null,
   "metadata": {},
   "outputs": [],
   "source": [
    "for i, model in enumerate(models):\n",
    "    print(f'{model}:', end='\\t')\n",
    "    for k, amp in enumerate(amp_list):\n",
    "\n",
    "        np.random.seed(seed)\n",
    "        rbm = boltzmanmachine(L,M,sigma, vmin=vmin, spin=spin)\n",
    "        rbm.load_model(model)\n",
    "        \n",
    "        vf = rbm.gen_fantasy(v, amp)\n",
    "        vf = ((vf+1)/2).astype(int)\n",
    "              \n",
    "        proteins_dataset=convert_to_decimal_protein(vf)\n",
    "        p_dataset=return_protein_probabilities(proteins_dataset)\n",
    "        js_values[i,k] = jensenshannon(p_dataset, Q)\n",
    "         \n",
    "        print('.', end='')\n",
    "    print( ' done')"
   ]
  },
  {
   "cell_type": "markdown",
   "metadata": {},
   "source": [
    "### Saves computed on a .npz"
   ]
  },
  {
   "cell_type": "code",
   "execution_count": null,
   "metadata": {},
   "outputs": [],
   "source": [
    "if spin:\n",
    "    s='_spin'\n",
    "else:\n",
    "    s=''\n",
    "np.savez('Models/Metrics'+s+'.npz', js=js_values)"
   ]
  },
  {
   "cell_type": "markdown",
   "metadata": {},
   "source": [
    "### Plot the heatmap for the JS divergence"
   ]
  },
  {
   "cell_type": "code",
   "execution_count": null,
   "metadata": {},
   "outputs": [],
   "source": [
    "df_js = pd.DataFrame(js_values, columns=amp_list, index=amp_list)"
   ]
  },
  {
   "cell_type": "code",
   "execution_count": null,
   "metadata": {},
   "outputs": [],
   "source": [
    "import seaborn as sns"
   ]
  },
  {
   "cell_type": "code",
   "execution_count": null,
   "metadata": {},
   "outputs": [],
   "source": [
    "fig, ax = plt.subplots(nrows=1, ncols=1, figsize=(8,8))\n",
    "fig.tight_layout()\n",
    "sns.heatmap(ax=ax,data=df_js,annot=True,fmt=\".2f\",cbar=False,square=True)\n",
    "\n",
    "\n",
    "ax.set_title('JS divergence')\n",
    "ax.set_ylabel('Training temperature amplitude')\n",
    "ax.set_xlabel('Genereting temperature amplitude')\n",
    "plt.savefig('JS_spin.png')\n",
    "plt.plot()"
   ]
  },
  {
   "cell_type": "code",
   "execution_count": null,
   "metadata": {},
   "outputs": [],
   "source": [
    "heatmap_nospin = np.load('Models/Metrics.npz')\n",
    "heatmap_spin = np.load('Models/Metrics_spin.npz')\n",
    "    \n",
    "js_nospin = heatmap_nospin['js']\n",
    "js_spin = heatmap_spin['js']\n",
    "\n",
    "df_nospin = pd.DataFrame(js_nospin, columns=amp_list, index=amp_list)\n",
    "df_spin = pd.DataFrame(js_spin, columns=amp_list, index=amp_list)"
   ]
  },
  {
   "cell_type": "code",
   "execution_count": null,
   "metadata": {},
   "outputs": [],
   "source": [
    "fig, ax = plt.subplots(nrows=1, ncols=2, figsize=(16,16))\n",
    "fig.tight_layout()\n",
    "sns.heatmap(ax=ax[0],data=df_nospin,annot=True,fmt=\".2f\",cbar=False,square=True)\n",
    "sns.heatmap(ax=ax[1],data=df_spin,annot=True,fmt=\".2f\",cbar=False,square=True)\n",
    "\n",
    "\n",
    "ax[0].set_title('No Spin model')\n",
    "ax[0].set_ylabel('Training temperature amplitude')\n",
    "ax[0].set_xlabel('Genereting temperature amplitude')\n",
    "\n",
    "\n",
    "ax[1].set_title('Spin model')\n",
    "ax[1].set_ylabel('Training temperature amplitude')\n",
    "ax[1].set_xlabel('Genereting temperature amplitude')\n",
    "\n",
    "plt.savefig('JSheatmaps.png')\n",
    "plt.plot()"
   ]
  },
  {
   "cell_type": "markdown",
   "metadata": {},
   "source": [
    "## We select the model that better represent the distribution of our data\n",
    "Notice how the best js divergence is found using the spin model"
   ]
  },
  {
   "cell_type": "code",
   "execution_count": null,
   "metadata": {},
   "outputs": [],
   "source": [
    "np.random.seed(seed)\n",
    "rbm_nospin = boltzmanmachine(L,M,sigma, vmin=vmin, spin=spin)\n",
    "rbm_nospin.load_model('Models/RMSprop_015_1.npz')\n",
    "\n",
    "rbm_spin = boltzmanmachine(L,M,sigma, vmin=vmin, spin=spin)\n",
    "rbm_spin.load_model('Models/RMSprop_02_1_spin.npz')"
   ]
  },
  {
   "cell_type": "code",
   "execution_count": null,
   "metadata": {},
   "outputs": [],
   "source": [
    "fig, ax = plt.subplots(1,3, figsize=(12,4))\n",
    "for h in np.arange(M):\n",
    "    ax[h].matshow(rbm_spin.w.T[i].reshape(5,4).T, cmap='bwr')\n",
    "    ax[h].set_xlabel('Site contrib for '+str(h))\n",
    "    ax[h].set_ylabel('Amminoacid type')\n",
    "plt.savefig('spin_model_weigths.png')\n",
    "plt.show()"
   ]
  },
  {
   "cell_type": "code",
   "execution_count": null,
   "metadata": {},
   "outputs": [],
   "source": [
    "fig, ax = plt.subplots(1,3, figsize=(12,4))\n",
    "for h in np.arange(M):\n",
    "    ax[h].matshow(rbm_nospin.w.T[i].reshape(5,4).T, cmap='bwr')\n",
    "    ax[h].set_xlabel('Site contrib for '+str(h))\n",
    "    ax[h].set_ylabel('Amminoacid type')\n",
    "plt.savefig('nospin_model_weigths.png')\n",
    "plt.show()"
   ]
  },
  {
   "cell_type": "markdown",
   "metadata": {},
   "source": [
    "# Contrastive divergence implementation"
   ]
  },
  {
   "cell_type": "code",
   "execution_count": 7,
   "metadata": {},
   "outputs": [
    {
     "name": "stdout",
     "output_type": "stream",
     "text": [
      "each of N=10000 data has L=20 digits\n",
      "The network has 20 visible units and 3 hidden units\n",
      "Initializing std 0.41702882811414954\n"
     ]
    }
   ],
   "source": [
    "N = len(v)       #Number of rows\n",
    "L = len(v[0])    #Set the number of visible variable\n",
    "M = 3            #Set the number of hidden units\n",
    "\n",
    "sigma = np.sqrt(4. / float(L + M))\n",
    "\n",
    "print(f'each of N={N} data has L={L} digits')\n",
    "print(f'The network has {L} visible units and {M} hidden units')\n",
    "print(f'Initializing std {sigma}')"
   ]
  },
  {
   "cell_type": "markdown",
   "metadata": {},
   "source": [
    "### Defining training parameters"
   ]
  },
  {
   "cell_type": "code",
   "execution_count": 20,
   "metadata": {},
   "outputs": [],
   "source": [
    "seed = 1      #set the random seed in order to reproduce results \n",
    "Amp_training  = 0.05      #set the coefficient that multiply the temp, Higher Amp -> Lower Temp\n",
    "cdn  = 2        #set the number of phases\n",
    "\n",
    "\n",
    "n_epochs = 100   #set the number of epochs\n",
    "\n",
    "\n",
    "spin = True     #chose the kind of representation\n",
    "\n",
    "if spin:\n",
    "    GAP=2        #sigmoid takes into account energy difference =2\n",
    "    v = 2*v - 1  #convert 0,1 -> -1,1\n",
    "    vmin=-1\n",
    "    amp_training = 0.2\n",
    "    np.random.seed(seed)\n",
    "    rbm = boltzmanmachine(L,M,sigma, vmin=vmin, spin=spin)\n",
    "    rbm.load_model('Models/RMSprop_015_1.npz')\n",
    "\n",
    "else:\n",
    "    GAP=1\n",
    "    vmin=0\n",
    "    amp_training = 0.15\n",
    "    rbm = boltzmanmachine(L,M,sigma, vmin=vmin, spin=spin)\n",
    "    rbm.load_model('Models/RMSprop_02_1_spin.npz')\n",
    "    \n",
    "Algorithm = 'RMSprop'\n",
    "\n",
    "amp_list = [0.05, 0.10, 0.15, 0.2, 0.25, 0.3, 0.35, 0.4, 0.45, 0.5]"
   ]
  },
  {
   "cell_type": "markdown",
   "metadata": {},
   "source": [
    "### Initialize the Restricted Boltzmann Machine"
   ]
  },
  {
   "cell_type": "code",
   "execution_count": 21,
   "metadata": {},
   "outputs": [
    {
     "name": "stdout",
     "output_type": "stream",
     "text": [
      "===================================================\n",
      "0.2 01234567891011121314151617181920212223242526272829303132333435363738394041424344454647484950515253545556575859606162636465666768697071727374757677787980818283848586878889909192939495969798"
     ]
    },
    {
     "data": {
      "image/png": "[encoded data removed]",
      "text/plain": [
       "<Figure size 1152x172.8 with 2 Axes>"
      ]
     },
     "metadata": {
      "needs_background": "light"
     },
     "output_type": "display_data"
    },
    {
     "name": "stdout",
     "output_type": "stream",
     "text": [
      "99 \t ...Done!\n"
     ]
    }
   ],
   "source": [
    "# random seed for reproducibility\n",
    "np.random.seed(seed)\n",
    "\n",
    "# learning rate\n",
    "l_rate = 1e-3\n",
    "\n",
    "# minibatch\n",
    "mini_batch = 500\n",
    "\n",
    "# train model\n",
    "print('===================================================')\n",
    "print(amp_training, end=' ')\n",
    "for epoch in range(n_epochs):\n",
    "    # aggregate normalization of batch statistics and learning rate\n",
    "    for k in range(N):\n",
    "        rbm.train(data=v[k],\n",
    "                  learning_rate=l_rate,\n",
    "                  batch_size=mini_batch,\n",
    "                  n_contrastive_div=cdn,\n",
    "                  Amp_training=amp_training,\n",
    "                  Algorithm=Algorithm)\n",
    "\n",
    "    # randomize the order of input data\n",
    "    np.random.shuffle(v)\n",
    "    if epoch==n_epochs-1:\n",
    "        plt.matshow(rbm.w.T)\n",
    "        plt.colorbar()\n",
    "        plt.show()\n",
    "\n",
    "    print(epoch, end='')\n",
    "\n",
    "if spin:\n",
    "    file_name='Models/'+str(Algorithm)+'_'+str(amp_training).replace('.','')+'_'+str(cdn)+'_spin'+'.npz'\n",
    "else:\n",
    "    file_name='Models/'+str(Algorithm)+'_'+str(amp_training).replace('.','')+'_'+str(cdn)+'.npz'\n",
    "rbm.save_model(file_name)\n",
    "\n",
    "print(' \\t ...Done!')\n",
    "    "
   ]
  },
  {
   "cell_type": "markdown",
   "metadata": {},
   "source": [
    "### Chacking for improvment"
   ]
  },
  {
   "cell_type": "code",
   "execution_count": 16,
   "metadata": {},
   "outputs": [
    {
     "name": "stdout",
     "output_type": "stream",
     "text": [
      "0.6989175994189075\n"
     ]
    }
   ],
   "source": [
    "np.random.seed(seed)\n",
    "rbm_nospin = boltzmanmachine(L,M,sigma, vmin=0., spin=False)\n",
    "rbm_nospin.load_model('Models/RMSprop_015_2.npz')\n",
    "\n",
    "vf = rbm_nospin.gen_fantasy(v, 0.2)\n",
    "vf = ((vf+1)/2).astype(int)\n",
    "\n",
    "proteins_dataset=convert_to_decimal_protein(vf)\n",
    "p_dataset=return_protein_probabilities(proteins_dataset)\n",
    "print(jensenshannon(p_dataset, Q))"
   ]
  },
  {
   "cell_type": "code",
   "execution_count": null,
   "metadata": {},
   "outputs": [],
   "source": [
    "np.random.seed(seed)\n",
    "rbm_spin = boltzmanmachine(L,M,sigma, vmin=-1, spin=True)\n",
    "rbm_spin.load_model('Models/RMSprop_02_2_spin.npz')\n",
    "\n",
    "vf = rbm_spin.gen_fantasy(v, 0.2)\n",
    "vf = ((vf+1)/2).astype(int)\n",
    "\n",
    "proteins_dataset=convert_to_decimal_protein(vf)\n",
    "p_dataset=return_protein_probabilities(proteins_dataset)\n",
    "print(jensenshannon(p_dataset, Q))"
   ]
  }
 ],
 "metadata": {
  "kernelspec": {
   "display_name": "Python 3",
   "language": "python",
   "name": "python3"
  },
  "language_info": {
   "codemirror_mode": {
    "name": "ipython",
    "version": 3
   },
   "file_extension": ".py",
   "mimetype": "text/x-python",
   "name": "python",
   "nbconvert_exporter": "python",
   "pygments_lexer": "ipython3",
   "version": "3.8.8"
  }
 },
 "nbformat": 4,
 "nbformat_minor": 4
}
